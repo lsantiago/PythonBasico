{
 "cells": [
  {
   "cell_type": "markdown",
   "metadata": {},
   "source": [
    "## Taller de Módulos - Paquetes\n",
    "\n",
    "Resolver el problema en grupos de 2 estudiantes.\n",
    "\n",
    "Este problema requiere que usted genere tablas de conversión de temperatura. Use las siguientes ecuaciones, que describen las relaciones entre temperaturas en grados Fahrenheit (TF), grados Celsius (TC), grados Kelvin (TK) y grados Rankine (TR), respectivamente:\n",
    "\n",
    "$$T_{F} = T_{R} - 459.67 \\cdot °R$$\n",
    "$$T_{F} = \\frac{9}{5} T_{C} + 32 \\cdot °F$$\n",
    "$$T_{R} = \\frac{9}{5} \\cdot T_{K}$$\n",
    "\n",
    "Necesitará reordenar estas expresiones para resolver algunos de los problemas.\n",
    "\n",
    "- Cree una función llamada F_to_K que convierta temperaturas en Fahrenheit a Kelvin. \n",
    "- Cree una función llamada C_to_R que convierta temperaturas en Celsius a Rankine. \n",
    "- Cree una función llamada C_to_F que convierta temperaturas en Celsius a Fahrenheit. \n",
    "- Agrupe sus funciones en el modulo **temperatures** y luego en el paquete (directorio)  **my_temp_conversions**. \n",
    "- Genere un instalador para distribuir el paquete.\n",
    "- Cree un archivo principal y haga uso de las funciones para generar una de las siguientes tablas de conversión.\n",
    "  - Use su función para generar una tabla de conversión para valores desde 0 °F hasta 200 °F.\n",
    "  - Use su función para generar una tabla de conversión desde 0 °C hasta 100 °C.\n",
    "  - Use su función para generar una tabla de conversión desde 0 °C hasta 100 °C.\n",
    "\n"
   ]
  }
 ],
 "metadata": {
  "kernelspec": {
   "display_name": "Python 3",
   "language": "python",
   "name": "python3"
  },
  "language_info": {
   "codemirror_mode": {
    "name": "ipython",
    "version": 3
   },
   "file_extension": ".py",
   "mimetype": "text/x-python",
   "name": "python",
   "nbconvert_exporter": "python",
   "pygments_lexer": "ipython3",
   "version": "3.7.3"
  }
 },
 "nbformat": 4,
 "nbformat_minor": 2
}
